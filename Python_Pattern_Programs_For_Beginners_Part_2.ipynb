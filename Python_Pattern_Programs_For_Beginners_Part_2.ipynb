{
 "cells": [
  {
   "cell_type": "code",
   "execution_count": null,
   "id": "67aec684",
   "metadata": {},
   "outputs": [],
   "source": [
    "#16. Sixteenth_Pattern"
   ]
  },
  {
   "cell_type": "code",
   "execution_count": 1,
   "id": "1ba8c16a",
   "metadata": {},
   "outputs": [
    {
     "name": "stdout",
     "output_type": "stream",
     "text": [
      "Enter The Number of Rows : 5\n",
      "*****\n",
      "****\n",
      "***\n",
      "**\n",
      "*\n"
     ]
    }
   ],
   "source": [
    "def SixteenthPattern():\n",
    "    n = int(input(\"Enter The Number of Rows : \"))\n",
    "    for i in range (1,n+1):\n",
    "        for j in range (1,n+2-i):\n",
    "            print(\"*\",end=\"\")\n",
    "        print()\n",
    "SixteenthPattern()"
   ]
  },
  {
   "cell_type": "code",
   "execution_count": null,
   "id": "ec0e4bdb",
   "metadata": {},
   "outputs": [],
   "source": [
    "#17. Seventeenth_Pattern"
   ]
  },
  {
   "cell_type": "code",
   "execution_count": 3,
   "id": "962d44be",
   "metadata": {},
   "outputs": [
    {
     "name": "stdout",
     "output_type": "stream",
     "text": [
      "Enter The Number of Rows : 5\n",
      "@@@@@\n",
      "????\n",
      ">>>\n",
      "==\n",
      "<\n"
     ]
    }
   ],
   "source": [
    "def SeventeenthPattern():\n",
    "    n = int(input(\"Enter The Number of Rows : \"))\n",
    "    for i in range (1,n+1):\n",
    "        for j in range (1,n+2-i):\n",
    "            print(chr(64+1-i),end=\"\")\n",
    "        print()\n",
    "SeventeenthPattern()\n",
    "\n",
    "# Forming pattern for SPECIAL CHARACTERS"
   ]
  },
  {
   "cell_type": "code",
   "execution_count": null,
   "id": "91afeaa6",
   "metadata": {},
   "outputs": [],
   "source": [
    "#18. Eighteenth_Pattern"
   ]
  },
  {
   "cell_type": "code",
   "execution_count": 4,
   "id": "3f56994f",
   "metadata": {},
   "outputs": [
    {
     "name": "stdout",
     "output_type": "stream",
     "text": [
      "Enter The Number of Rows : 5\n",
      "AAAAA\n",
      "BBBB\n",
      "CCC\n",
      "DD\n",
      "E\n"
     ]
    }
   ],
   "source": [
    "def EighteenthPattern():\n",
    "    n = int(input(\"Enter The Number of Rows : \"))\n",
    "    for i in range (1,n+1):\n",
    "        for j in range (1,n+2-i):\n",
    "            print(chr(64+i),end=\"\")\n",
    "        print()\n",
    "EighteenthPattern()"
   ]
  },
  {
   "cell_type": "code",
   "execution_count": null,
   "id": "82603d79",
   "metadata": {},
   "outputs": [],
   "source": [
    "#19. Nighteenth_Pattern"
   ]
  },
  {
   "cell_type": "code",
   "execution_count": 5,
   "id": "41d903a4",
   "metadata": {},
   "outputs": [
    {
     "name": "stdout",
     "output_type": "stream",
     "text": [
      "Enter The Number of Rows : 5\n",
      "ABCDE\n",
      "ABCD\n",
      "ABC\n",
      "AB\n",
      "A\n"
     ]
    }
   ],
   "source": [
    "def NighteenthPattern():\n",
    "    n = int(input(\"Enter The Number of Rows : \"))\n",
    "    for i in range (1,n+1):\n",
    "        for j in range (1,n+2-i):\n",
    "            print(chr(64+j),end=\"\")\n",
    "        print()\n",
    "NighteenthPattern()"
   ]
  },
  {
   "cell_type": "code",
   "execution_count": null,
   "id": "ab83cad3",
   "metadata": {},
   "outputs": [],
   "source": [
    "#20. Twentieth_Pattern"
   ]
  },
  {
   "cell_type": "code",
   "execution_count": 6,
   "id": "fb5a9ef3",
   "metadata": {},
   "outputs": [
    {
     "name": "stdout",
     "output_type": "stream",
     "text": [
      "Enter The Number of Rows : 5\n",
      "11111\n",
      "2222\n",
      "333\n",
      "44\n",
      "5\n"
     ]
    }
   ],
   "source": [
    "def TwentiethPattern():\n",
    "    n = int(input(\"Enter The Number of Rows : \"))\n",
    "    for i in range (1,n+1):\n",
    "        for j in range (1,n+2-i):\n",
    "            print(i,end=\"\")\n",
    "        print()\n",
    "TwentiethPattern()"
   ]
  },
  {
   "cell_type": "code",
   "execution_count": null,
   "id": "189c1989",
   "metadata": {},
   "outputs": [],
   "source": [
    "#21. TwentyFirst_Pattern"
   ]
  },
  {
   "cell_type": "code",
   "execution_count": 7,
   "id": "e3a84133",
   "metadata": {},
   "outputs": [
    {
     "name": "stdout",
     "output_type": "stream",
     "text": [
      "Enter The Number of Rows : 5\n",
      "12345\n",
      "1234\n",
      "123\n",
      "12\n",
      "1\n"
     ]
    }
   ],
   "source": [
    "def TwentyfirstPattern():\n",
    "    n = int(input(\"Enter The Number of Rows : \"))\n",
    "    for i in range (1,n+1):\n",
    "        for j in range (1,n+2-i):\n",
    "            print(j,end=\"\")\n",
    "        print()\n",
    "TwentyfirstPattern()"
   ]
  },
  {
   "cell_type": "code",
   "execution_count": null,
   "id": "bfbd1e89",
   "metadata": {},
   "outputs": [],
   "source": [
    "#22. TwentySecond_Pattern"
   ]
  },
  {
   "cell_type": "code",
   "execution_count": 8,
   "id": "105ea1cd",
   "metadata": {},
   "outputs": [
    {
     "name": "stdout",
     "output_type": "stream",
     "text": [
      "Enter The number of Rows : 5\n",
      "AAAAA\n",
      "BBBB\n",
      "CCC\n",
      "DD\n",
      "E\n"
     ]
    }
   ],
   "source": [
    "def TwentysecondPattern():\n",
    "    n = int(input(\"Enter The number of Rows : \"))\n",
    "    for i in range (1,n+1):\n",
    "        for j in range (1,n+2-i):\n",
    "            print(chr(64+i),end=\"\")\n",
    "        print()\n",
    "TwentysecondPattern()"
   ]
  },
  {
   "cell_type": "code",
   "execution_count": null,
   "id": "8b4bd8c1",
   "metadata": {},
   "outputs": [],
   "source": [
    "#23. TwentyThird_Pattern"
   ]
  },
  {
   "cell_type": "code",
   "execution_count": 9,
   "id": "966910bd",
   "metadata": {},
   "outputs": [
    {
     "name": "stdout",
     "output_type": "stream",
     "text": [
      "Enter The Number of Rows : 5\n",
      "ABCDE\n",
      "ABCD\n",
      "ABC\n",
      "AB\n",
      "A\n"
     ]
    }
   ],
   "source": [
    "def TwentythirdPattern():\n",
    "    n = int(input(\"Enter The Number of Rows : \"))\n",
    "    for i in range (1,n+1):\n",
    "        for j in range (1,n+2-i):\n",
    "            print(chr(64+j),end=\"\")\n",
    "        print()\n",
    "TwentythirdPattern()"
   ]
  },
  {
   "cell_type": "code",
   "execution_count": null,
   "id": "e8fcfca3",
   "metadata": {},
   "outputs": [],
   "source": [
    "#24. TwentyFourth_Pattern"
   ]
  },
  {
   "cell_type": "code",
   "execution_count": 13,
   "id": "203416d3",
   "metadata": {},
   "outputs": [
    {
     "name": "stdout",
     "output_type": "stream",
     "text": [
      "Enter The Number of Rows : 5\n",
      "55555\n",
      "4444\n",
      "333\n",
      "22\n",
      "1\n"
     ]
    }
   ],
   "source": [
    "def TwentyfourthPattern():\n",
    "    n = int(input(\"Enter The Number of Rows : \"))\n",
    "    for i in range (1,n+1):\n",
    "        for j in range (1,n+2-i):\n",
    "            print(n+1-i,end=\"\")\n",
    "        print()\n",
    "TwentyfourthPattern()"
   ]
  },
  {
   "cell_type": "code",
   "execution_count": null,
   "id": "0847111e",
   "metadata": {},
   "outputs": [],
   "source": [
    "#25. TwentyFifth_Pattern"
   ]
  },
  {
   "cell_type": "code",
   "execution_count": 14,
   "id": "c9f39bb3",
   "metadata": {},
   "outputs": [
    {
     "name": "stdout",
     "output_type": "stream",
     "text": [
      "Enter The Number of Rows : 5\n",
      "54321\n",
      "5432\n",
      "543\n",
      "54\n",
      "5\n"
     ]
    }
   ],
   "source": [
    "def TwentyfifthPattern():\n",
    "    n = int(input(\"Enter The Number of Rows : \"))\n",
    "    for i in range (1,n+1):\n",
    "        for j in range (1,n+2-i):\n",
    "            print(n+1-j,end=\"\")\n",
    "        print()\n",
    "TwentyfifthPattern()"
   ]
  },
  {
   "cell_type": "code",
   "execution_count": null,
   "id": "c94cbf46",
   "metadata": {},
   "outputs": [],
   "source": [
    "#26. TwentySixth_Pattern"
   ]
  },
  {
   "cell_type": "code",
   "execution_count": 20,
   "id": "125e7b8d",
   "metadata": {},
   "outputs": [
    {
     "name": "stdout",
     "output_type": "stream",
     "text": [
      "Enter The Number of Rows : 5\n",
      " *\n",
      " **\n",
      " ***\n",
      " ****\n",
      " *****\n"
     ]
    }
   ],
   "source": [
    "def TwentysixthPattern():\n",
    "    n = int(input(\"Enter The Number of Rows : \"))\n",
    "    for i in range (1,n+1):\n",
    "        print(\"\"*(n-i),\"*\"*i,end=\"\")\n",
    "        print()\n",
    "TwentysixthPattern()"
   ]
  },
  {
   "cell_type": "code",
   "execution_count": null,
   "id": "2deee3ea",
   "metadata": {},
   "outputs": [],
   "source": [
    "#27. TwentySeventh_Pattern"
   ]
  },
  {
   "cell_type": "code",
   "execution_count": 22,
   "id": "78dc6189",
   "metadata": {},
   "outputs": [
    {
     "name": "stdout",
     "output_type": "stream",
     "text": [
      "Enter The Number of Rows : 5\n",
      "*\n",
      "**\n",
      "***\n",
      "****\n",
      "*****\n"
     ]
    }
   ],
   "source": [
    "def TwentyseventhPattern():\n",
    "    n = int(input(\"Enter The Number of Rows : \"))\n",
    "    for i in range (1,n+1):\n",
    "        print(\"\"*(n-i),end=\"\")\n",
    "        for j in range (1,i+1):\n",
    "            print(\"*\",end=\"\")\n",
    "        print()\n",
    "TwentyseventhPattern()"
   ]
  },
  {
   "cell_type": "code",
   "execution_count": null,
   "id": "33a6dccf",
   "metadata": {},
   "outputs": [],
   "source": [
    "#28. TwentyEighth_Pattern"
   ]
  },
  {
   "cell_type": "code",
   "execution_count": 24,
   "id": "44498917",
   "metadata": {},
   "outputs": [
    {
     "name": "stdout",
     "output_type": "stream",
     "text": [
      "Enter The Number of Rows : 5\n",
      " 1 \n",
      " 2 2 \n",
      " 3 3 3 \n",
      " 4 4 4 4 \n",
      " 5 5 5 5 5 \n",
      "\n"
     ]
    }
   ],
   "source": [
    "def TwentyeighthPattern():\n",
    "    n = int(input(\"Enter The Number of Rows : \"))\n",
    "    for i in range (1,n+1):\n",
    "        print(\"\"*(n-i),(str(i)+\" \")*i)\n",
    "    print()\n",
    "TwentyeighthPattern()"
   ]
  },
  {
   "cell_type": "code",
   "execution_count": null,
   "id": "84b02513",
   "metadata": {},
   "outputs": [],
   "source": [
    "#29. TwentyNineth_Pattern"
   ]
  },
  {
   "cell_type": "code",
   "execution_count": 27,
   "id": "14c06336",
   "metadata": {},
   "outputs": [
    {
     "name": "stdout",
     "output_type": "stream",
     "text": [
      "Enter The Number of Rows : 5\n",
      "1\n",
      "12\n",
      "123\n",
      "1234\n",
      "12345\n"
     ]
    }
   ],
   "source": [
    "def TwentyninethPattern():\n",
    "    n = int(input(\"Enter The Number of Rows : \"))\n",
    "    for i in range (1,n+1):\n",
    "        print(\"\"*(n-i),end=\"\")\n",
    "        for j in range (1,i+1):\n",
    "            print(j,end=\"\")\n",
    "        print()\n",
    "TwentyninethPattern()\n",
    "        "
   ]
  },
  {
   "cell_type": "code",
   "execution_count": null,
   "id": "375dda15",
   "metadata": {},
   "outputs": [],
   "source": [
    "#30. Thirteeth_Pattern"
   ]
  },
  {
   "cell_type": "code",
   "execution_count": 28,
   "id": "fe3afd2a",
   "metadata": {},
   "outputs": [
    {
     "name": "stdout",
     "output_type": "stream",
     "text": [
      "Enter The Number of Rows : 5\n",
      " A\n",
      " B\n",
      " C\n",
      " D\n",
      " E\n",
      "\n"
     ]
    }
   ],
   "source": [
    "def ThirteethPattern():\n",
    "    n = int(input(\"Enter The Number of Rows : \"))\n",
    "    for i in range (1,n+1):\n",
    "        print(\"\"*(n-i),(chr(64+i)+\"\")*1)\n",
    "    print()\n",
    "ThirteethPattern()"
   ]
  },
  {
   "cell_type": "code",
   "execution_count": null,
   "id": "1bbf5c40",
   "metadata": {},
   "outputs": [],
   "source": [
    "#31. ThirtyFirst_Pattern"
   ]
  },
  {
   "cell_type": "code",
   "execution_count": 30,
   "id": "863fcaf8",
   "metadata": {},
   "outputs": [
    {
     "name": "stdout",
     "output_type": "stream",
     "text": [
      "Enter The Number of Rows : 5\n",
      "A\n",
      "AB\n",
      "ABC\n",
      "ABCD\n",
      "ABCDE\n"
     ]
    }
   ],
   "source": [
    "def ThirtyfirstPattern():\n",
    "    n = int(input(\"Enter The Number of Rows : \"))\n",
    "    for i in range (1,n+1):\n",
    "        print(\"\"*(n-i),end=\"\")\n",
    "        for j in range (1,i+1):\n",
    "            print(chr(64+j),end=\"\")\n",
    "        print()\n",
    "ThirtyfirstPattern()\n"
   ]
  },
  {
   "cell_type": "code",
   "execution_count": null,
   "id": "eb989aaa",
   "metadata": {},
   "outputs": [],
   "source": []
  }
 ],
 "metadata": {
  "kernelspec": {
   "display_name": "Python 3",
   "language": "python",
   "name": "python3"
  },
  "language_info": {
   "codemirror_mode": {
    "name": "ipython",
    "version": 3
   },
   "file_extension": ".py",
   "mimetype": "text/x-python",
   "name": "python",
   "nbconvert_exporter": "python",
   "pygments_lexer": "ipython3",
   "version": "3.8.8"
  }
 },
 "nbformat": 4,
 "nbformat_minor": 5
}
